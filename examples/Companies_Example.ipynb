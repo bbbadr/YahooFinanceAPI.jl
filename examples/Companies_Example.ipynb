{
 "cells": [
  {
   "cell_type": "code",
   "execution_count": 1,
   "metadata": {
    "collapsed": false
   },
   "outputs": [
    {
     "name": "stderr",
     "output_type": "stream",
     "text": [
      "WARNING: Method definition get(AbstractString) in module HTTPC at /home/tyler/.julia/v0.5/HTTPClient/src/HTTPC.jl:379 overwritten at /home/tyler/.julia/v0.5/HTTPClient/src/HTTPC.jl:534.\n",
      "WARNING: Method definition head(AbstractString) in module HTTPC at /home/tyler/.julia/v0.5/HTTPClient/src/HTTPC.jl:511 overwritten at /home/tyler/.julia/v0.5/HTTPClient/src/HTTPC.jl:534.\n",
      "WARNING: Method definition delete(AbstractString) in module HTTPC at /home/tyler/.julia/v0.5/HTTPClient/src/HTTPC.jl:528 overwritten at /home/tyler/.julia/v0.5/HTTPClient/src/HTTPC.jl:534.\n",
      "WARNING: Method definition trace(AbstractString) in module HTTPC at /home/tyler/.julia/v0.5/HTTPClient/src/HTTPC.jl:529 overwritten at /home/tyler/.julia/v0.5/HTTPClient/src/HTTPC.jl:534.\n",
      "WARNING: Method definition options(AbstractString) in module HTTPC at /home/tyler/.julia/v0.5/HTTPClient/src/HTTPC.jl:530 overwritten at /home/tyler/.julia/v0.5/HTTPClient/src/HTTPC.jl:534.\n"
     ]
    }
   ],
   "source": [
    "using YahooFinanceAPI"
   ]
  },
  {
   "cell_type": "code",
   "execution_count": 11,
   "metadata": {
    "collapsed": false
   },
   "outputs": [
    {
     "name": "stdout",
     "output_type": "stream",
     "text": [
      "http://biz.yahoo.com/p/csv/316conameu.csv\n"
     ]
    },
    {
     "data": {
      "text/plain": [
       "12×4 Array{Any,2}:\n",
       " \"Description\"                     …  \"Market Cap\"     \"P/E\"\n",
       " \"Consumer Goods\"                     \"2314477.37B\"  14.67  \n",
       " \"Sporting Goods\"                     \"9.23B\"        24.5   \n",
       " \"Callaway Golf Co.\"                  \"1.06B\"        34.048 \n",
       " \"CannaSys, Inc.\"                     \"0.25M\"          \"NA\" \n",
       " \"Escalade Inc.\"                   …  \"187.36M\"      17.124 \n",
       " \"Johnson Outdoors Inc.\"              \"333.22M\"      25.394 \n",
       " \"Nautilus Inc.\"                      \"505.85M\"      15.64  \n",
       " \"Pool Corp.\"                         \"4.33B\"        30.462 \n",
       " \"Sportsman's Warehouse Holdings\"     \"343.61M\"      11.444 \n",
       " \"SPY Inc.\"                        …  \"0.68M\"          \"NA\" \n",
       " \"Vista Outdoor Inc.\"                 \"1.64B\"         9.314 "
      ]
     },
     "execution_count": 11,
     "metadata": {},
     "output_type": "execute_result"
    }
   ],
   "source": [
    "companies = fetchCompanies(IndustryCodes.Sporting_Goods);\n",
    "companies[:,1:4]"
   ]
  },
  {
   "cell_type": "code",
   "execution_count": 12,
   "metadata": {
    "collapsed": false
   },
   "outputs": [
    {
     "ename": "LoadError",
     "evalue": "LoadError: MethodError: no method matching fetchSectors(::Int64)\nClosest candidates are:\n  fetchSectors(!Matched::String, !Matched::String) at /home/tyler/.julia/v0.5/YahooFinanceAPI.jl/src/yahoo_finance_api/apiCalls.jl:80\n  fetchSectors(!Matched::String) at /home/tyler/.julia/v0.5/YahooFinanceAPI.jl/src/yahoo_finance_api/apiCalls.jl:80\n  fetchSectors() at /home/tyler/.julia/v0.5/YahooFinanceAPI.jl/src/yahoo_finance_api/apiCalls.jl:80\nwhile loading In[12], in expression starting on line 1",
     "output_type": "error",
     "traceback": [
      "LoadError: MethodError: no method matching fetchSectors(::Int64)\nClosest candidates are:\n  fetchSectors(!Matched::String, !Matched::String) at /home/tyler/.julia/v0.5/YahooFinanceAPI.jl/src/yahoo_finance_api/apiCalls.jl:80\n  fetchSectors(!Matched::String) at /home/tyler/.julia/v0.5/YahooFinanceAPI.jl/src/yahoo_finance_api/apiCalls.jl:80\n  fetchSectors() at /home/tyler/.julia/v0.5/YahooFinanceAPI.jl/src/yahoo_finance_api/apiCalls.jl:80\nwhile loading In[12], in expression starting on line 1",
      ""
     ]
    }
   ],
   "source": [
    "fetchSectors(Sectors.Financial,)"
   ]
  },
  {
   "cell_type": "code",
   "execution_count": null,
   "metadata": {
    "collapsed": false
   },
   "outputs": [],
   "source": []
  },
  {
   "cell_type": "code",
   "execution_count": null,
   "metadata": {
    "collapsed": true
   },
   "outputs": [],
   "source": []
  }
 ],
 "metadata": {
  "kernelspec": {
   "display_name": "Julia 0.5.0-rc4",
   "language": "julia",
   "name": "julia-0.5"
  },
  "language_info": {
   "file_extension": ".jl",
   "mimetype": "application/julia",
   "name": "julia",
   "version": "0.5.0"
  }
 },
 "nbformat": 4,
 "nbformat_minor": 0
}
