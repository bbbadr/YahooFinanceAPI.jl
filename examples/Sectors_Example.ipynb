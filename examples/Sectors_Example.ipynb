{
 "cells": [
  {
   "cell_type": "code",
   "execution_count": 1,
   "metadata": {
    "collapsed": false
   },
   "outputs": [
    {
     "name": "stderr",
     "output_type": "stream",
     "text": [
      "WARNING: Method definition get(AbstractString) in module HTTPC at /home/tyler/.julia/v0.5/HTTPClient/src/HTTPC.jl:379 overwritten at /home/tyler/.julia/v0.5/HTTPClient/src/HTTPC.jl:534.\n",
      "WARNING: Method definition head(AbstractString) in module HTTPC at /home/tyler/.julia/v0.5/HTTPClient/src/HTTPC.jl:511 overwritten at /home/tyler/.julia/v0.5/HTTPClient/src/HTTPC.jl:534.\n",
      "WARNING: Method definition delete(AbstractString) in module HTTPC at /home/tyler/.julia/v0.5/HTTPClient/src/HTTPC.jl:528 overwritten at /home/tyler/.julia/v0.5/HTTPClient/src/HTTPC.jl:534.\n",
      "WARNING: Method definition trace(AbstractString) in module HTTPC at /home/tyler/.julia/v0.5/HTTPClient/src/HTTPC.jl:529 overwritten at /home/tyler/.julia/v0.5/HTTPClient/src/HTTPC.jl:534.\n",
      "WARNING: Method definition options(AbstractString) in module HTTPC at /home/tyler/.julia/v0.5/HTTPClient/src/HTTPC.jl:530 overwritten at /home/tyler/.julia/v0.5/HTTPClient/src/HTTPC.jl:534.\n"
     ]
    }
   ],
   "source": [
    "using YahooFinanceAPI"
   ]
  },
  {
   "cell_type": "code",
   "execution_count": 7,
   "metadata": {
    "collapsed": false
   },
   "outputs": [
    {
     "name": "stdout",
     "output_type": "stream",
     "text": [
      "Any[\"Sectors\" \"1-Day Price Chg %\" \"Market Cap\" \"P/E\" \"ROE %\" \"Div. Yield %\" \"Debt to Equity\" \"Price to Book\" \"Net Profit Margin (mrq)\" \"Price To Free Cash Flow (mrq)\"]"
     ]
    },
    {
     "data": {
      "text/plain": [
       "9×10 Array{Any,2}:\n",
       " \"Services\"           0.064  …   40.6      -1.527  14.223  1101.83 \n",
       " \"Conglomerates\"      0.364      41.022     5.13   -2.3     -16.3  \n",
       " \"Technology\"         0.158      48.483     3.312  12.489   190.202\n",
       " \"Basic Materials\"   -0.016      71.594     2.941   1.294    -0.437\n",
       " \"Consumer Goods\"     7.854     103.805     1.266   5.373   217.458\n",
       " \"Healthcare\"        -0.287  …  110.296  3349.53   16.557   -74.584\n",
       " \"Financial\"          0.0       110.708     1.601  17.599    21.459\n",
       " \"Industrial Goods\"   0.037     167.339    12.049   4.986   -15.607\n",
       " \"Utilities\"          0.094     167.482     2.566  10.172  -140.7  "
      ]
     },
     "execution_count": 7,
     "metadata": {},
     "output_type": "execute_result"
    }
   ],
   "source": [
    "sortBy = MarketQuoteProperties.LongTermDebtToEquity;\n",
    "sortDir = \"u\"\n",
    "sectorInfo = fetchSectors(sortBy, sortDir);\n",
    "show(sectorInfo[1,:]')\n",
    "sectorInfo[2:end,:]"
   ]
  },
  {
   "cell_type": "code",
   "execution_count": null,
   "metadata": {
    "collapsed": false
   },
   "outputs": [],
   "source": []
  }
 ],
 "metadata": {
  "kernelspec": {
   "display_name": "Julia 0.5.0-rc4",
   "language": "julia",
   "name": "julia-0.5"
  },
  "language_info": {
   "file_extension": ".jl",
   "mimetype": "application/julia",
   "name": "julia",
   "version": "0.5.0"
  }
 },
 "nbformat": 4,
 "nbformat_minor": 0
}
